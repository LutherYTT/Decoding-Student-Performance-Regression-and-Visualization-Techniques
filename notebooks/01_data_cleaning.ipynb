{
 "cells": [
  {
   "cell_type": "code",
   "execution_count": 1,
   "metadata": {},
   "outputs": [],
   "source": [
    "import sys\n",
    "sys.path.append('../src')\n",
    "from data_cleaning import load_data, clean_data, save_data\n",
    "\n",
    "# Load raw data\n",
    "raw_data_path = '../data/raw/StudentPerformanceFactors.csv'\n",
    "df = load_data(raw_data_path)\n",
    "\n",
    "# Clean data\n",
    "df_cleaned = clean_data(df)\n",
    "\n",
    "# Save cleaned data\n",
    "processed_data_path = '../data/processed/cleaned_data.csv'\n",
    "save_data(df_cleaned, processed_data_path)"
   ]
  }
 ],
 "metadata": {
  "kernelspec": {
   "display_name": "base",
   "language": "python",
   "name": "python3"
  },
  "language_info": {
   "codemirror_mode": {
    "name": "ipython",
    "version": 3
   },
   "file_extension": ".py",
   "mimetype": "text/x-python",
   "name": "python",
   "nbconvert_exporter": "python",
   "pygments_lexer": "ipython3",
   "version": "3.9.13"
  }
 },
 "nbformat": 4,
 "nbformat_minor": 2
}
